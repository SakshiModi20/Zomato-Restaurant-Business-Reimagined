{
 "cells": [
  {
   "cell_type": "code",
   "execution_count": 1,
   "id": "b59e859c",
   "metadata": {},
   "outputs": [],
   "source": [
    "# Importing modules/libraries\n",
    "import pandas as pd\n",
    "import warnings\n",
    "import numpy as np\n",
    "import matplotlib.pyplot as plt\n",
    "import seaborn as sb\n",
    "import warnings"
   ]
  },
  {
   "cell_type": "code",
   "execution_count": 2,
   "id": "7e6bc7d7",
   "metadata": {},
   "outputs": [],
   "source": [
    "warnings.filterwarnings(\"ignore\")"
   ]
  },
  {
   "cell_type": "code",
   "execution_count": 16,
   "id": "cf01fa85",
   "metadata": {
    "scrolled": true
   },
   "outputs": [
    {
     "ename": "UnicodeDecodeError",
     "evalue": "'utf-8' codec can't decode byte 0xed in position 7032: invalid continuation byte",
     "output_type": "error",
     "traceback": [
      "\u001b[1;31m---------------------------------------------------------------------------\u001b[0m",
      "\u001b[1;31mUnicodeDecodeError\u001b[0m                        Traceback (most recent call last)",
      "Cell \u001b[1;32mIn[16], line 1\u001b[0m\n\u001b[1;32m----> 1\u001b[0m zomato \u001b[38;5;241m=\u001b[39m \u001b[43mpd\u001b[49m\u001b[38;5;241;43m.\u001b[39;49m\u001b[43mread_csv\u001b[49m\u001b[43m(\u001b[49m\u001b[38;5;124;43m\"\u001b[39;49m\u001b[38;5;124;43mC:/Users/saksh/OneDrive - CHRIST UNIVERSITY/christ/sem 3/Data Lab/Zomato dataset.csv\u001b[39;49m\u001b[38;5;124;43m\"\u001b[39;49m\u001b[43m)\u001b[49m\n\u001b[0;32m      2\u001b[0m zomato\u001b[38;5;241m.\u001b[39mhead(\u001b[38;5;241m2\u001b[39m)\n",
      "File \u001b[1;32m~\\anaconda3\\lib\\site-packages\\pandas\\util\\_decorators.py:211\u001b[0m, in \u001b[0;36mdeprecate_kwarg.<locals>._deprecate_kwarg.<locals>.wrapper\u001b[1;34m(*args, **kwargs)\u001b[0m\n\u001b[0;32m    209\u001b[0m     \u001b[38;5;28;01melse\u001b[39;00m:\n\u001b[0;32m    210\u001b[0m         kwargs[new_arg_name] \u001b[38;5;241m=\u001b[39m new_arg_value\n\u001b[1;32m--> 211\u001b[0m \u001b[38;5;28;01mreturn\u001b[39;00m func(\u001b[38;5;241m*\u001b[39margs, \u001b[38;5;241m*\u001b[39m\u001b[38;5;241m*\u001b[39mkwargs)\n",
      "File \u001b[1;32m~\\anaconda3\\lib\\site-packages\\pandas\\util\\_decorators.py:331\u001b[0m, in \u001b[0;36mdeprecate_nonkeyword_arguments.<locals>.decorate.<locals>.wrapper\u001b[1;34m(*args, **kwargs)\u001b[0m\n\u001b[0;32m    325\u001b[0m \u001b[38;5;28;01mif\u001b[39;00m \u001b[38;5;28mlen\u001b[39m(args) \u001b[38;5;241m>\u001b[39m num_allow_args:\n\u001b[0;32m    326\u001b[0m     warnings\u001b[38;5;241m.\u001b[39mwarn(\n\u001b[0;32m    327\u001b[0m         msg\u001b[38;5;241m.\u001b[39mformat(arguments\u001b[38;5;241m=\u001b[39m_format_argument_list(allow_args)),\n\u001b[0;32m    328\u001b[0m         \u001b[38;5;167;01mFutureWarning\u001b[39;00m,\n\u001b[0;32m    329\u001b[0m         stacklevel\u001b[38;5;241m=\u001b[39mfind_stack_level(),\n\u001b[0;32m    330\u001b[0m     )\n\u001b[1;32m--> 331\u001b[0m \u001b[38;5;28;01mreturn\u001b[39;00m func(\u001b[38;5;241m*\u001b[39margs, \u001b[38;5;241m*\u001b[39m\u001b[38;5;241m*\u001b[39mkwargs)\n",
      "File \u001b[1;32m~\\anaconda3\\lib\\site-packages\\pandas\\io\\parsers\\readers.py:950\u001b[0m, in \u001b[0;36mread_csv\u001b[1;34m(filepath_or_buffer, sep, delimiter, header, names, index_col, usecols, squeeze, prefix, mangle_dupe_cols, dtype, engine, converters, true_values, false_values, skipinitialspace, skiprows, skipfooter, nrows, na_values, keep_default_na, na_filter, verbose, skip_blank_lines, parse_dates, infer_datetime_format, keep_date_col, date_parser, dayfirst, cache_dates, iterator, chunksize, compression, thousands, decimal, lineterminator, quotechar, quoting, doublequote, escapechar, comment, encoding, encoding_errors, dialect, error_bad_lines, warn_bad_lines, on_bad_lines, delim_whitespace, low_memory, memory_map, float_precision, storage_options)\u001b[0m\n\u001b[0;32m    935\u001b[0m kwds_defaults \u001b[38;5;241m=\u001b[39m _refine_defaults_read(\n\u001b[0;32m    936\u001b[0m     dialect,\n\u001b[0;32m    937\u001b[0m     delimiter,\n\u001b[1;32m   (...)\u001b[0m\n\u001b[0;32m    946\u001b[0m     defaults\u001b[38;5;241m=\u001b[39m{\u001b[38;5;124m\"\u001b[39m\u001b[38;5;124mdelimiter\u001b[39m\u001b[38;5;124m\"\u001b[39m: \u001b[38;5;124m\"\u001b[39m\u001b[38;5;124m,\u001b[39m\u001b[38;5;124m\"\u001b[39m},\n\u001b[0;32m    947\u001b[0m )\n\u001b[0;32m    948\u001b[0m kwds\u001b[38;5;241m.\u001b[39mupdate(kwds_defaults)\n\u001b[1;32m--> 950\u001b[0m \u001b[38;5;28;01mreturn\u001b[39;00m \u001b[43m_read\u001b[49m\u001b[43m(\u001b[49m\u001b[43mfilepath_or_buffer\u001b[49m\u001b[43m,\u001b[49m\u001b[43m \u001b[49m\u001b[43mkwds\u001b[49m\u001b[43m)\u001b[49m\n",
      "File \u001b[1;32m~\\anaconda3\\lib\\site-packages\\pandas\\io\\parsers\\readers.py:605\u001b[0m, in \u001b[0;36m_read\u001b[1;34m(filepath_or_buffer, kwds)\u001b[0m\n\u001b[0;32m    602\u001b[0m _validate_names(kwds\u001b[38;5;241m.\u001b[39mget(\u001b[38;5;124m\"\u001b[39m\u001b[38;5;124mnames\u001b[39m\u001b[38;5;124m\"\u001b[39m, \u001b[38;5;28;01mNone\u001b[39;00m))\n\u001b[0;32m    604\u001b[0m \u001b[38;5;66;03m# Create the parser.\u001b[39;00m\n\u001b[1;32m--> 605\u001b[0m parser \u001b[38;5;241m=\u001b[39m TextFileReader(filepath_or_buffer, \u001b[38;5;241m*\u001b[39m\u001b[38;5;241m*\u001b[39mkwds)\n\u001b[0;32m    607\u001b[0m \u001b[38;5;28;01mif\u001b[39;00m chunksize \u001b[38;5;129;01mor\u001b[39;00m iterator:\n\u001b[0;32m    608\u001b[0m     \u001b[38;5;28;01mreturn\u001b[39;00m parser\n",
      "File \u001b[1;32m~\\anaconda3\\lib\\site-packages\\pandas\\io\\parsers\\readers.py:1442\u001b[0m, in \u001b[0;36mTextFileReader.__init__\u001b[1;34m(self, f, engine, **kwds)\u001b[0m\n\u001b[0;32m   1439\u001b[0m     \u001b[38;5;28mself\u001b[39m\u001b[38;5;241m.\u001b[39moptions[\u001b[38;5;124m\"\u001b[39m\u001b[38;5;124mhas_index_names\u001b[39m\u001b[38;5;124m\"\u001b[39m] \u001b[38;5;241m=\u001b[39m kwds[\u001b[38;5;124m\"\u001b[39m\u001b[38;5;124mhas_index_names\u001b[39m\u001b[38;5;124m\"\u001b[39m]\n\u001b[0;32m   1441\u001b[0m \u001b[38;5;28mself\u001b[39m\u001b[38;5;241m.\u001b[39mhandles: IOHandles \u001b[38;5;241m|\u001b[39m \u001b[38;5;28;01mNone\u001b[39;00m \u001b[38;5;241m=\u001b[39m \u001b[38;5;28;01mNone\u001b[39;00m\n\u001b[1;32m-> 1442\u001b[0m \u001b[38;5;28mself\u001b[39m\u001b[38;5;241m.\u001b[39m_engine \u001b[38;5;241m=\u001b[39m \u001b[38;5;28;43mself\u001b[39;49m\u001b[38;5;241;43m.\u001b[39;49m\u001b[43m_make_engine\u001b[49m\u001b[43m(\u001b[49m\u001b[43mf\u001b[49m\u001b[43m,\u001b[49m\u001b[43m \u001b[49m\u001b[38;5;28;43mself\u001b[39;49m\u001b[38;5;241;43m.\u001b[39;49m\u001b[43mengine\u001b[49m\u001b[43m)\u001b[49m\n",
      "File \u001b[1;32m~\\anaconda3\\lib\\site-packages\\pandas\\io\\parsers\\readers.py:1753\u001b[0m, in \u001b[0;36mTextFileReader._make_engine\u001b[1;34m(self, f, engine)\u001b[0m\n\u001b[0;32m   1750\u001b[0m     \u001b[38;5;28;01mraise\u001b[39;00m \u001b[38;5;167;01mValueError\u001b[39;00m(msg)\n\u001b[0;32m   1752\u001b[0m \u001b[38;5;28;01mtry\u001b[39;00m:\n\u001b[1;32m-> 1753\u001b[0m     \u001b[38;5;28;01mreturn\u001b[39;00m mapping[engine](f, \u001b[38;5;241m*\u001b[39m\u001b[38;5;241m*\u001b[39m\u001b[38;5;28mself\u001b[39m\u001b[38;5;241m.\u001b[39moptions)\n\u001b[0;32m   1754\u001b[0m \u001b[38;5;28;01mexcept\u001b[39;00m \u001b[38;5;167;01mException\u001b[39;00m:\n\u001b[0;32m   1755\u001b[0m     \u001b[38;5;28;01mif\u001b[39;00m \u001b[38;5;28mself\u001b[39m\u001b[38;5;241m.\u001b[39mhandles \u001b[38;5;129;01mis\u001b[39;00m \u001b[38;5;129;01mnot\u001b[39;00m \u001b[38;5;28;01mNone\u001b[39;00m:\n",
      "File \u001b[1;32m~\\anaconda3\\lib\\site-packages\\pandas\\io\\parsers\\c_parser_wrapper.py:79\u001b[0m, in \u001b[0;36mCParserWrapper.__init__\u001b[1;34m(self, src, **kwds)\u001b[0m\n\u001b[0;32m     76\u001b[0m     kwds\u001b[38;5;241m.\u001b[39mpop(key, \u001b[38;5;28;01mNone\u001b[39;00m)\n\u001b[0;32m     78\u001b[0m kwds[\u001b[38;5;124m\"\u001b[39m\u001b[38;5;124mdtype\u001b[39m\u001b[38;5;124m\"\u001b[39m] \u001b[38;5;241m=\u001b[39m ensure_dtype_objs(kwds\u001b[38;5;241m.\u001b[39mget(\u001b[38;5;124m\"\u001b[39m\u001b[38;5;124mdtype\u001b[39m\u001b[38;5;124m\"\u001b[39m, \u001b[38;5;28;01mNone\u001b[39;00m))\n\u001b[1;32m---> 79\u001b[0m \u001b[38;5;28mself\u001b[39m\u001b[38;5;241m.\u001b[39m_reader \u001b[38;5;241m=\u001b[39m parsers\u001b[38;5;241m.\u001b[39mTextReader(src, \u001b[38;5;241m*\u001b[39m\u001b[38;5;241m*\u001b[39mkwds)\n\u001b[0;32m     81\u001b[0m \u001b[38;5;28mself\u001b[39m\u001b[38;5;241m.\u001b[39munnamed_cols \u001b[38;5;241m=\u001b[39m \u001b[38;5;28mself\u001b[39m\u001b[38;5;241m.\u001b[39m_reader\u001b[38;5;241m.\u001b[39munnamed_cols\n\u001b[0;32m     83\u001b[0m \u001b[38;5;66;03m# error: Cannot determine type of 'names'\u001b[39;00m\n",
      "File \u001b[1;32m~\\anaconda3\\lib\\site-packages\\pandas\\_libs\\parsers.pyx:547\u001b[0m, in \u001b[0;36mpandas._libs.parsers.TextReader.__cinit__\u001b[1;34m()\u001b[0m\n",
      "File \u001b[1;32m~\\anaconda3\\lib\\site-packages\\pandas\\_libs\\parsers.pyx:636\u001b[0m, in \u001b[0;36mpandas._libs.parsers.TextReader._get_header\u001b[1;34m()\u001b[0m\n",
      "File \u001b[1;32m~\\anaconda3\\lib\\site-packages\\pandas\\_libs\\parsers.pyx:852\u001b[0m, in \u001b[0;36mpandas._libs.parsers.TextReader._tokenize_rows\u001b[1;34m()\u001b[0m\n",
      "File \u001b[1;32m~\\anaconda3\\lib\\site-packages\\pandas\\_libs\\parsers.pyx:1965\u001b[0m, in \u001b[0;36mpandas._libs.parsers.raise_parser_error\u001b[1;34m()\u001b[0m\n",
      "\u001b[1;31mUnicodeDecodeError\u001b[0m: 'utf-8' codec can't decode byte 0xed in position 7032: invalid continuation byte"
     ]
    }
   ],
   "source": [
    "zomato = pd.read_csv(\"C:/Users/saksh/OneDrive - CHRIST UNIVERSITY/christ/sem 3/Data Lab/Zomato dataset.csv\")\n",
    "zomato.head(2)"
   ]
  },
  {
   "cell_type": "code",
   "execution_count": null,
   "id": "2992954f",
   "metadata": {
    "scrolled": false
   },
   "outputs": [],
   "source": [
    "zomato.head(15)"
   ]
  },
  {
   "cell_type": "code",
   "execution_count": null,
   "id": "9e0e540d",
   "metadata": {},
   "outputs": [],
   "source": [
    "print(\"Total rows in the dataset: \" , len(zomato.axes[0]))\n",
    "print(\"Total columns in the dataset: \", len(zomato.axes[1]))"
   ]
  },
  {
   "cell_type": "code",
   "execution_count": null,
   "id": "70255879",
   "metadata": {},
   "outputs": [],
   "source": [
    "df1 = pd.read_excel(\"C:/Users/saksh/OneDrive/Documents/christ/sem 3/Data Lab/Country-Code.xlsx\")\n",
    "df1.head()"
   ]
  },
  {
   "cell_type": "code",
   "execution_count": null,
   "id": "f10c6ece",
   "metadata": {
    "scrolled": true
   },
   "outputs": [],
   "source": [
    "zomato_country = pd.merge(zomato,df1,on='Country Code',how='left')\n",
    "zomato_country.head(2)"
   ]
  },
  {
   "cell_type": "code",
   "execution_count": null,
   "id": "da7ec6fd",
   "metadata": {
    "scrolled": false
   },
   "outputs": [],
   "source": [
    "zomato_country.rename(columns = {'f':\"Restaurant ID\"}, inplace = True)\n",
    "zomato_country.head()"
   ]
  },
  {
   "cell_type": "code",
   "execution_count": null,
   "id": "795e0b6e",
   "metadata": {
    "scrolled": false
   },
   "outputs": [],
   "source": [
    "zomato_india = zomato_country[zomato_country['Country Code'] == 1]\n",
    "zomato_india.head()"
   ]
  },
  {
   "cell_type": "code",
   "execution_count": null,
   "id": "30a74842",
   "metadata": {
    "scrolled": true
   },
   "outputs": [],
   "source": [
    "zomato_country[[\"Average Cost for two\"]]"
   ]
  },
  {
   "cell_type": "code",
   "execution_count": null,
   "id": "a651a736",
   "metadata": {
    "scrolled": false
   },
   "outputs": [],
   "source": [
    "zomato_india.head(15)"
   ]
  },
  {
   "cell_type": "code",
   "execution_count": null,
   "id": "8009fad9",
   "metadata": {},
   "outputs": [],
   "source": [
    "## Checking if dataset contains any null\n",
    "\n",
    "nan_values = zomato.isna()\n",
    "nan_columns = nan_values.any()\n",
    "\n",
    "columns_with_nan = zomato.columns[nan_columns].tolist()\n",
    "print(columns_with_nan)"
   ]
  },
  {
   "cell_type": "code",
   "execution_count": null,
   "id": "de21fbbd",
   "metadata": {
    "scrolled": false
   },
   "outputs": [],
   "source": [
    "zomato_india"
   ]
  },
  {
   "cell_type": "code",
   "execution_count": null,
   "id": "c8865e7a",
   "metadata": {},
   "outputs": [],
   "source": [
    "print('List of counteris the survey is spread accross - ')\n",
    "for x in pd.unique(zomato_country.Country): print(x)\n",
    "print()\n",
    "print('Total number to country', len(pd.unique(zomato_country.Country)))"
   ]
  },
  {
   "cell_type": "code",
   "execution_count": null,
   "id": "ef919a3e",
   "metadata": {
    "scrolled": true
   },
   "outputs": [],
   "source": [
    "ratings = zomato_country.groupby(['Aggregate rating','Rating color', 'Rating text']).size().reset_index().rename(columns={0:'Rating Count'})\n",
    "ratings"
   ]
  },
  {
   "cell_type": "code",
   "execution_count": null,
   "id": "6aeaa2e7",
   "metadata": {},
   "outputs": [],
   "source": [
    "No_rating = zomato_country[zomato_country['Rating color']=='White'].groupby('Country').size().reset_index().rename(columns={0:'Rating Count'})\n",
    "No_rating"
   ]
  },
  {
   "cell_type": "code",
   "execution_count": null,
   "id": "0011485e",
   "metadata": {},
   "outputs": [],
   "source": [
    "zomato_india['City'].value_counts()"
   ]
  },
  {
   "cell_type": "code",
   "execution_count": null,
   "id": "90cb6c87",
   "metadata": {},
   "outputs": [],
   "source": [
    "# Import the required library\n",
    "from geopy.geocoders import Nominatim\n",
    "\n",
    "# Initialize Nominatim API\n",
    "geolocator = Nominatim(user_agent=\"MyApp\")\n",
    "a= input(\"Enter the location = \")\n",
    "location = geolocator.geocode(a)\n",
    "\n",
    "latitude=location.latitude\n",
    "longitude=location.longitude\n",
    "print(latitude, longitude)"
   ]
  },
  {
   "cell_type": "code",
   "execution_count": null,
   "id": "c2570914",
   "metadata": {
    "scrolled": false
   },
   "outputs": [],
   "source": [
    "zomato_india[\"Restaurant Name\"].unique()"
   ]
  },
  {
   "cell_type": "code",
   "execution_count": null,
   "id": "345d0e7d",
   "metadata": {},
   "outputs": [],
   "source": [
    "zomato_india[\"Cuisines\"].unique()"
   ]
  },
  {
   "cell_type": "code",
   "execution_count": null,
   "id": "78fcfbc2",
   "metadata": {},
   "outputs": [],
   "source": [
    "input_dataset = pd.DataFrame()\n",
    "def dataset_input(a):\n",
    "    zomato_india[(zomato_india[\"Locality Verbose\"].str.contains(a, case=False)|(zomato_india[\"Locality\"].str.contains(a, case=False)))]\n",
    "    input_dataset = zomato_india[(zomato_india[\"Locality\"].str.contains(a, case=False))|(zomato_india[\"Locality Verbose\"].str.contains(a, case=False))]\n",
    "    return input_dataset\n",
    "    "
   ]
  },
  {
   "cell_type": "code",
   "execution_count": null,
   "id": "586277bc",
   "metadata": {
    "scrolled": false
   },
   "outputs": [],
   "source": [
    "input_location= input(\"Enter the location: \")\n",
    "dataset_input(input_location)"
   ]
  },
  {
   "cell_type": "code",
   "execution_count": null,
   "id": "e5c8eeae",
   "metadata": {},
   "outputs": [],
   "source": []
  },
  {
   "cell_type": "code",
   "execution_count": null,
   "id": "ab97bbba",
   "metadata": {},
   "outputs": [],
   "source": [
    "zomato_ncr = zomato_india[(zomato_india['City'] == 'New Delhi') | (zomato_india['City'] == 'Gurgaon') | (zomato_india['City'] == 'Faridabad') | (zomato_india['City'] == 'Noida')]\n",
    "zomato_ncr.head()"
   ]
  },
  {
   "cell_type": "code",
   "execution_count": null,
   "id": "1fb39c56",
   "metadata": {
    "scrolled": true
   },
   "outputs": [],
   "source": [
    "zomato_country.groupby(['Country','Has Online delivery']).size().reset_index()"
   ]
  },
  {
   "cell_type": "code",
   "execution_count": null,
   "id": "c4b61be7",
   "metadata": {
    "scrolled": true
   },
   "outputs": [],
   "source": [
    "zomato_country[zomato_country['Has Online delivery']=='Yes'].Country.value_counts()"
   ]
  },
  {
   "cell_type": "code",
   "execution_count": null,
   "id": "1e8639e0",
   "metadata": {
    "scrolled": true
   },
   "outputs": [],
   "source": [
    "zomato_country.groupby(['Has Online delivery']).size().reset_index()"
   ]
  },
  {
   "cell_type": "code",
   "execution_count": null,
   "id": "189e00c1",
   "metadata": {},
   "outputs": [],
   "source": [
    "zomato_india.groupby(['Has Online delivery']).size().reset_index()"
   ]
  },
  {
   "cell_type": "code",
   "execution_count": null,
   "id": "06a6791b",
   "metadata": {},
   "outputs": [],
   "source": [
    "zomato_ncr.shape "
   ]
  },
  {
   "cell_type": "code",
   "execution_count": null,
   "id": "1f229714",
   "metadata": {},
   "outputs": [],
   "source": [
    "zomato_india[\"Average Cost for two\"]"
   ]
  },
  {
   "cell_type": "code",
   "execution_count": null,
   "id": "a22e5220",
   "metadata": {},
   "outputs": [],
   "source": [
    "zomato_ncr.info()"
   ]
  },
  {
   "cell_type": "code",
   "execution_count": null,
   "id": "0ec71818",
   "metadata": {},
   "outputs": [],
   "source": [
    "zomato_ncr.describe()"
   ]
  },
  {
   "cell_type": "code",
   "execution_count": null,
   "id": "46173f25",
   "metadata": {},
   "outputs": [],
   "source": [
    "from sklearn.preprocessing import LabelEncoder\n",
    "from sklearn.model_selection import train_test_split\n",
    "encoder= LabelEncoder()"
   ]
  },
  {
   "cell_type": "code",
   "execution_count": null,
   "id": "3ca55306",
   "metadata": {
    "scrolled": true
   },
   "outputs": [],
   "source": [
    "zomato_india['City_en']=encoder.fit_transform(zomato_india['City'])"
   ]
  },
  {
   "cell_type": "code",
   "execution_count": null,
   "id": "afcb9a6a",
   "metadata": {},
   "outputs": [],
   "source": [
    "zomato_india['City_en'].value_counts()"
   ]
  },
  {
   "cell_type": "code",
   "execution_count": null,
   "id": "827e0ba5",
   "metadata": {},
   "outputs": [],
   "source": [
    "tableBooking = LabelEncoder()\n",
    "tableBooking.fit(zomato_india['Has Table booking'])                    "
   ]
  },
  {
   "cell_type": "code",
   "execution_count": null,
   "id": "da5cf88b",
   "metadata": {},
   "outputs": [],
   "source": [
    "onlineBooking= LabelEncoder()\n",
    "\n",
    "onlineBooking.fit(zomato_india['Has Online delivery'])\n"
   ]
  },
  {
   "cell_type": "code",
   "execution_count": null,
   "id": "f8c915f6",
   "metadata": {},
   "outputs": [],
   "source": [
    "rating_text= LabelEncoder()\n",
    "rating_text.fit(zomato_india[\"Rating text\"])"
   ]
  },
  {
   "cell_type": "code",
   "execution_count": null,
   "id": "9a05db7c",
   "metadata": {},
   "outputs": [],
   "source": [
    "zomato_india['Online Booking'] = onlineBooking.transform(zomato_india['Has Online delivery'])\n"
   ]
  },
  {
   "cell_type": "code",
   "execution_count": null,
   "id": "2fddcbb0",
   "metadata": {},
   "outputs": [],
   "source": [
    "zomato_india['Table Booking'] = tableBooking.transform(zomato_india['Has Table booking'])\n"
   ]
  },
  {
   "cell_type": "code",
   "execution_count": null,
   "id": "6df1f45e",
   "metadata": {
    "scrolled": true
   },
   "outputs": [],
   "source": [
    "zomato_india['Rating text']=encoder.fit_transform(zomato_india['Rating text'])"
   ]
  },
  {
   "cell_type": "code",
   "execution_count": null,
   "id": "ab2fb00f",
   "metadata": {},
   "outputs": [],
   "source": [
    "zomato_india.head()"
   ]
  },
  {
   "cell_type": "code",
   "execution_count": null,
   "id": "1e7ea3ce",
   "metadata": {
    "scrolled": true
   },
   "outputs": [],
   "source": [
    "encoded_data=pd.get_dummies(zomato_india, columns=['City_en','Rating text'],drop_first=True)\n",
    "encoded_data.head()"
   ]
  },
  {
   "cell_type": "markdown",
   "id": "9547c89d",
   "metadata": {},
   "source": [
    "#get rid of price range because its basically another ouput\n",
    "#get rid of 'is delivering now' because lots of bias"
   ]
  },
  {
   "cell_type": "code",
   "execution_count": null,
   "id": "8d841689",
   "metadata": {},
   "outputs": [],
   "source": [
    "encoded_data.drop(columns=['Restaurant ID','Restaurant Name','Is delivering now','Switch to order menu','Price range','Rating color'],axis=1,inplace=True)"
   ]
  },
  {
   "cell_type": "code",
   "execution_count": null,
   "id": "756c7da2",
   "metadata": {},
   "outputs": [],
   "source": [
    "encoded_data.drop(columns=['Address','Locality','Locality Verbose'],axis=1,inplace=True)"
   ]
  },
  {
   "cell_type": "code",
   "execution_count": null,
   "id": "e5fc3793",
   "metadata": {},
   "outputs": [],
   "source": [
    "encoded_data.drop(columns=['Country Code','Currency',\"Country\"],axis=1,inplace=True)"
   ]
  },
  {
   "cell_type": "code",
   "execution_count": null,
   "id": "1cae8fe3",
   "metadata": {},
   "outputs": [],
   "source": [
    "encoded_data.drop(columns=['Has Table booking','Has Online delivery',\"City\"],axis=1,inplace=True)"
   ]
  },
  {
   "cell_type": "code",
   "execution_count": null,
   "id": "85687e12",
   "metadata": {},
   "outputs": [],
   "source": [
    "encoded_data.rename({\"City_en\":\"City\"},inplace=True)"
   ]
  },
  {
   "cell_type": "code",
   "execution_count": null,
   "id": "e3b010bd",
   "metadata": {},
   "outputs": [],
   "source": [
    "encoded_data.head()"
   ]
  },
  {
   "cell_type": "code",
   "execution_count": null,
   "id": "18c03458",
   "metadata": {},
   "outputs": [],
   "source": [
    "encoded_data.groupby('Cuisines').mean().head()"
   ]
  },
  {
   "cell_type": "code",
   "execution_count": null,
   "id": "32728d26",
   "metadata": {},
   "outputs": [],
   "source": [
    "cuisines=encoded_data.groupby('Cuisines').mean()['Average Cost for two'].reset_index()\n",
    "cuisines"
   ]
  },
  {
   "cell_type": "code",
   "execution_count": null,
   "id": "f7d24216",
   "metadata": {
    "scrolled": true
   },
   "outputs": [],
   "source": [
    "cuisines.shape"
   ]
  },
  {
   "cell_type": "code",
   "execution_count": null,
   "id": "6d8cb996",
   "metadata": {
    "scrolled": true
   },
   "outputs": [],
   "source": [
    "#merging cuisine with earlier dataset df\n",
    "\n",
    "encoded_data=encoded_data.merge(cuisines,on='Cuisines')\n",
    "encoded_data.head()"
   ]
  },
  {
   "cell_type": "code",
   "execution_count": null,
   "id": "446bd928",
   "metadata": {},
   "outputs": [],
   "source": [
    "encoded_data.drop(columns=['Cuisines'],axis=1,inplace=True)"
   ]
  },
  {
   "cell_type": "code",
   "execution_count": null,
   "id": "5f4308ba",
   "metadata": {
    "scrolled": true
   },
   "outputs": [],
   "source": [
    "encoded_data.rename(columns={'Average Cost for two_y':'Cuisines'},inplace=True)\n",
    "encoded_data.head()"
   ]
  },
  {
   "cell_type": "code",
   "execution_count": null,
   "id": "d19c5816",
   "metadata": {},
   "outputs": [],
   "source": [
    "#1:Extract X and Y\n",
    "\n",
    "X=encoded_data.drop(columns=['Average Cost for two_x']).values\n",
    "Y= encoded_data[\"Average Cost for two_x\"]"
   ]
  },
  {
   "cell_type": "code",
   "execution_count": null,
   "id": "a40bc5b6",
   "metadata": {
    "scrolled": false
   },
   "outputs": [],
   "source": [
    "X"
   ]
  },
  {
   "cell_type": "code",
   "execution_count": null,
   "id": "67ce5dcb",
   "metadata": {},
   "outputs": [],
   "source": [
    "X_train,X_test,Y_train,Y_test=train_test_split(X,Y,test_size=0.2,random_state=0)"
   ]
  },
  {
   "cell_type": "code",
   "execution_count": null,
   "id": "bdf8a4db",
   "metadata": {
    "scrolled": true
   },
   "outputs": [],
   "source": [
    "print(X_train.shape)\n",
    "print(X_test.shape)\n",
    "print(Y_train.shape)\n",
    "print(Y_test.shape)"
   ]
  },
  {
   "cell_type": "code",
   "execution_count": null,
   "id": "73aff5ca",
   "metadata": {},
   "outputs": [],
   "source": [
    "from sklearn.linear_model import LinearRegression"
   ]
  },
  {
   "cell_type": "code",
   "execution_count": null,
   "id": "16fc0cac",
   "metadata": {
    "scrolled": true
   },
   "outputs": [],
   "source": [
    "reg=LinearRegression()"
   ]
  },
  {
   "cell_type": "code",
   "execution_count": null,
   "id": "bbdcaa36",
   "metadata": {},
   "outputs": [],
   "source": [
    "reg.fit(X_train,Y_train)"
   ]
  },
  {
   "cell_type": "code",
   "execution_count": null,
   "id": "9c1d584e",
   "metadata": {},
   "outputs": [],
   "source": [
    "Y=encoded_data['Average Cost for two_x'].values"
   ]
  },
  {
   "cell_type": "markdown",
   "id": "05861ae5",
   "metadata": {},
   "source": [
    "#algo giving predicted prices for all the resturaunts "
   ]
  },
  {
   "cell_type": "code",
   "execution_count": null,
   "id": "3afdbdb5",
   "metadata": {},
   "outputs": [],
   "source": [
    "reg.predict(X_test)\n"
   ]
  },
  {
   "cell_type": "code",
   "execution_count": null,
   "id": "54602f8e",
   "metadata": {},
   "outputs": [],
   "source": [
    "#now storing the pred values in variable  Y_pred\n",
    "Y_pred=reg.predict(X_test)"
   ]
  },
  {
   "cell_type": "code",
   "execution_count": null,
   "id": "04b38bdb",
   "metadata": {},
   "outputs": [],
   "source": [
    "print (X_test.shape)\n",
    "print(Y_pred.shape)\n",
    "print (Y_test.shape)"
   ]
  },
  {
   "cell_type": "code",
   "execution_count": null,
   "id": "19b0f1d2",
   "metadata": {},
   "outputs": [],
   "source": [
    "#now we have to compare Y_test with Y_pred to determine efficacy of the model\n",
    "Y_pred[2]"
   ]
  },
  {
   "cell_type": "code",
   "execution_count": null,
   "id": "d4744be4",
   "metadata": {},
   "outputs": [],
   "source": [
    "Y_test"
   ]
  },
  {
   "cell_type": "code",
   "execution_count": null,
   "id": "829e1e5c",
   "metadata": {},
   "outputs": [],
   "source": [
    "#Now we find r2 score to determine how well model is working\n",
    "from sklearn.metrics import r2_score\n",
    "r2_score(Y_test,Y_pred)\n",
    "# it is found that the regression is around 70% accurate"
   ]
  },
  {
   "cell_type": "code",
   "execution_count": null,
   "id": "74d4ef19",
   "metadata": {},
   "outputs": [],
   "source": [
    "# Encode the boolean values\n",
    "boolean_columns = ['Has Table booking', 'Has Online delivery', 'Is delivering now', 'Switch to order menu']\n",
    "# Create encoding\n",
    "encoding = {\"Yes\" : 1,\n",
    "             \"No\" : 0}\n",
    "# encoding using the lambda function\n",
    "for col in boolean_columns:\n",
    "    zomato_ncr[col] = zomato_ncr[col].apply(lambda x : encoding[x])"
   ]
  },
  {
   "cell_type": "code",
   "execution_count": null,
   "id": "070ec918",
   "metadata": {},
   "outputs": [],
   "source": [
    "zomato_ncr[boolean_columns]"
   ]
  },
  {
   "cell_type": "code",
   "execution_count": null,
   "id": "1243423b",
   "metadata": {},
   "outputs": [],
   "source": [
    "# check restaurants having more than 7 outlets in ncr\n",
    "more_than_7 = {}\n",
    "for restaurants,val in zip(zomato_ncr['Restaurant Name'].value_counts().index, zomato_ncr['Restaurant Name'].value_counts()):\n",
    "    if val >= 7:\n",
    "        more_than_7[restaurants] = val\n",
    "print(\"Reataurants with more than 7 outlets in ncr: {}\".format(len(more_than_7.keys())))"
   ]
  },
  {
   "cell_type": "code",
   "execution_count": null,
   "id": "54fc445c",
   "metadata": {},
   "outputs": [],
   "source": [
    "# check restaurants having more than 7 outlets in india\n",
    "more_than_7_ = {}\n",
    "for restaurants,val in zip(zomato_india['Restaurant Name'].value_counts().index, zomato_india['Restaurant Name'].value_counts()):\n",
    "    if val >= 7:\n",
    "        more_than_7_[restaurants] = val\n",
    "print(\"Reataurants with more than 7 outlets in India: {}\".format(len(more_than_7_.keys())))"
   ]
  },
  {
   "cell_type": "code",
   "execution_count": null,
   "id": "b6f8b6a7",
   "metadata": {},
   "outputs": [],
   "source": [
    "pd.set_option('display.max_rows', None)\n",
    "zomato_ncr.head(3)"
   ]
  },
  {
   "cell_type": "code",
   "execution_count": null,
   "id": "7e049aab",
   "metadata": {
    "scrolled": true
   },
   "outputs": [],
   "source": [
    "zomato_ncr.drop(['Country Code','Currency'], axis = 1, inplace = True)  # dropping unnecessary columns what are not needed"
   ]
  },
  {
   "cell_type": "code",
   "execution_count": null,
   "id": "921c4b75",
   "metadata": {},
   "outputs": [],
   "source": [
    "zomato_ncr.head()"
   ]
  },
  {
   "cell_type": "code",
   "execution_count": null,
   "id": "953a08ba",
   "metadata": {
    "scrolled": false
   },
   "outputs": [],
   "source": [
    "# Visualisation of top 5 restaurants in ncr\n",
    "zomato_ncr['Restaurant Name'].value_counts().head(5).plot(kind='bar', color='black', figsize=(10,10))\n",
    "plt.xlabel('Name of restaurant', color='g', fontsize = 18)\n",
    "plt.ylabel('Amount of each restaurant', color='g', fontsize = 18)\n",
    "plt.title('Top 5 Restaurants with most outlets in Delhi NCR', color = 'g', fontsize = 25)\n",
    "plt.figure();"
   ]
  },
  {
   "cell_type": "markdown",
   "id": "d7c8999a",
   "metadata": {},
   "source": [
    "# Inference:\n",
    "Delhi had the most data in my dataset. So according to the locality I combined all the city of delhi to make delhi_ncr's data and then check which retaurants has the most number of outlets or more liked. If a particular restaurant chain is increasing even after a desired average that means people are liking the food of that restaurant so using the count function I tried to find out the most liked restaurants in that area."
   ]
  },
  {
   "cell_type": "code",
   "execution_count": null,
   "id": "4b5df723",
   "metadata": {
    "scrolled": true
   },
   "outputs": [],
   "source": [
    "plt.figure(figsize = (22, 11))\n",
    "plt.bar(x = more_than_7.keys(), height = more_than_7.values(), color='royalblue')\n",
    "plt.xlabel('Restaurants', fontsize = 18)\n",
    "plt.ylabel('Number of outlets', fontsize = 19)\n",
    "plt.title('Restaurants having more than 7 outlets in Delhi NCR', fontsize = 25)\n",
    "plt.xticks(rotation = -90)\n",
    "plt.yticks(np.arange(0,90,2))\n",
    "plt.grid(color='#95a5a6', linestyle='--', linewidth=1, axis='y', alpha=0.7)\n",
    "plt.show();"
   ]
  },
  {
   "cell_type": "markdown",
   "id": "38a2473d",
   "metadata": {},
   "source": [
    "# inference:\n",
    "this shows all the restaurants in delhi ncr that has more than 7 outlets"
   ]
  },
  {
   "cell_type": "code",
   "execution_count": null,
   "id": "e0880a3d",
   "metadata": {
    "scrolled": false
   },
   "outputs": [],
   "source": [
    "# Visualisation of top 5 restaurants in ncr\n",
    "zomato_india['Restaurant Name'].value_counts().head(5).plot(kind='bar', color='black', figsize=(10,10))\n",
    "plt.xlabel('Name of restaurant', color='g', fontsize = 18)\n",
    "plt.ylabel('Amount of each restaurant', color='g', fontsize = 18)\n",
    "plt.title('Top 5 Restaurants with most outlets in India', color = 'g', fontsize = 25)\n",
    "plt.figure();"
   ]
  },
  {
   "cell_type": "markdown",
   "id": "64987545",
   "metadata": {},
   "source": [
    "# inference:\n",
    "this shows the most outlet restaurants in india. according to the graph above and this one we can clearly see delhi has most of them and rest others are in different city"
   ]
  },
  {
   "cell_type": "code",
   "execution_count": null,
   "id": "dbfcd05e",
   "metadata": {
    "scrolled": true
   },
   "outputs": [],
   "source": [
    "plt.figure(figsize = (22, 11))\n",
    "plt.bar(x = more_than_7_.keys(), height = more_than_7_.values(), color='royalblue')\n",
    "plt.xlabel('Restaurants', fontsize = 18)\n",
    "plt.ylabel('Number of outlets', fontsize = 19)\n",
    "plt.title('Restaurants having more than 7 outlets', fontsize = 25)\n",
    "plt.xticks(rotation = -90)\n",
    "plt.yticks(np.arange(0,90,2))\n",
    "plt.grid(color='#95a5a6', linestyle='--', linewidth=1, axis='y', alpha=0.7)\n",
    "plt.show();"
   ]
  },
  {
   "cell_type": "markdown",
   "id": "8206796e",
   "metadata": {},
   "source": [
    "# inference:\n",
    " this shows restaurants in India that has more than 7 outlets. which again shows very slight changes compare to the graph that came in delhi ncr report\n",
    " "
   ]
  },
  {
   "cell_type": "code",
   "execution_count": null,
   "id": "79dfcdfa",
   "metadata": {},
   "outputs": [],
   "source": [
    "def seven_or_more(data, column):\n",
    "    for col in column:\n",
    "\n",
    "        d = zomato_ncr[zomato_ncr['Restaurant Name'] == col]\n",
    "        data = pd.concat((data,d), axis = 0)\n",
    "  \n",
    "    return data"
   ]
  },
  {
   "cell_type": "code",
   "execution_count": null,
   "id": "3faf1784",
   "metadata": {},
   "outputs": [],
   "source": [
    "seven_or_more_outlets = pd.DataFrame(None)\n",
    "seven_or_more_outlets = seven_or_more(seven_or_more_outlets, list(more_than_7.keys()))\n",
    "seven_or_more_outlets.shape"
   ]
  },
  {
   "cell_type": "code",
   "execution_count": null,
   "id": "722ffa8f",
   "metadata": {},
   "outputs": [],
   "source": [
    "seven_or_more_outlets.head()"
   ]
  },
  {
   "cell_type": "code",
   "execution_count": null,
   "id": "bdccace0",
   "metadata": {},
   "outputs": [],
   "source": [
    "plt.figure(figsize = (12,10))\n",
    "sb.countplot(seven_or_more_outlets['City'], palette=\"Set3\")\n",
    "plt.yticks(np.arange(0,950,50))\n",
    "plt.show()\n"
   ]
  },
  {
   "cell_type": "code",
   "execution_count": null,
   "id": "407f7440",
   "metadata": {},
   "outputs": [],
   "source": [
    "# analysis on new delhi data\n",
    "delhi_data = seven_or_more_outlets.groupby('City').get_group('New Delhi')\n",
    "delhi_data.head()"
   ]
  },
  {
   "cell_type": "code",
   "execution_count": null,
   "id": "1d566449",
   "metadata": {},
   "outputs": [],
   "source": [
    "delhi_data[['Locality','Locality Verbose']].head()"
   ]
  },
  {
   "cell_type": "code",
   "execution_count": null,
   "id": "5e5a1a31",
   "metadata": {},
   "outputs": [],
   "source": [
    "delhi_data.drop('Locality Verbose',axis = 1, inplace = True)"
   ]
  },
  {
   "cell_type": "code",
   "execution_count": null,
   "id": "487150a9",
   "metadata": {},
   "outputs": [],
   "source": [
    "delhi_data['Locality'].value_counts().sort_values(ascending=False).head(10)"
   ]
  },
  {
   "cell_type": "code",
   "execution_count": null,
   "id": "6808eaff",
   "metadata": {},
   "outputs": [],
   "source": [
    "plt.figure(figsize = (12, 30))\n",
    "plt.barh(delhi_data['Locality'].value_counts().sort_values().index, delhi_data['Locality'].value_counts().sort_values(), color = 'royalblue')\n",
    "plt.ylabel('New Delhi Localities', fontsize = 18)\n",
    "plt.xlabel('Count', fontsize = 18)\n",
    "plt.title('Distribution of Restaurants in New Delhi Localities', fontsize = 30)\n",
    "plt.xticks(np.arange(0,26,1))\n",
    "plt.grid(color='#95a5a6', linestyle='--', linewidth=1, axis='y', alpha=0.7)\n",
    "plt.show()"
   ]
  },
  {
   "cell_type": "code",
   "execution_count": null,
   "id": "5d9209b4",
   "metadata": {},
   "outputs": [],
   "source": [
    "plt.figure(figsize=(15,23))\n",
    "plt.barh(delhi_data['Cuisines'].value_counts().sort_values().index, delhi_data['Cuisines'].value_counts().sort_values(), color = 'royalblue')\n",
    "plt.ylabel(\"Cuisines\", fontsize = 30)\n",
    "plt.xlabel(\"Count\", fontsize = 30)\n",
    "plt.title('Visualising Popularity of various cuisines in Delhi', fontsize = 40)\n",
    "plt.grid(color='#95a5a6', linestyle='--', linewidth=1, axis='y', alpha=0.7)\n",
    "plt.show()"
   ]
  },
  {
   "cell_type": "code",
   "execution_count": null,
   "id": "8d918204",
   "metadata": {},
   "outputs": [],
   "source": [
    "# Creating competitor data \n",
    "competitor = set()\n",
    "for res,cuisine in zip(delhi_data['Restaurant Name'], delhi_data['Cuisines']):\n",
    "    if 'Mughlai' in cuisine or 'Fast Food' in cuisine or 'American' in cuisine or 'Pizza' in cuisine or 'Burger' in cuisine or 'Biryani' in cuisine:\n",
    "        competitor.add(res)\n",
    "competitor"
   ]
  },
  {
   "cell_type": "code",
   "execution_count": null,
   "id": "7d7823d8",
   "metadata": {
    "scrolled": false
   },
   "outputs": [],
   "source": [
    "sb.countplot(zomato_country['City'])\n",
    "sb.countplot(zomato_country['City']).set_xticklabels(sb.countplot(zomato_country['City']).get_xticklabels(), rotation=90, ha=\"right\")\n",
    "fig = plt.gcf()\n",
    "fig.set_size_inches(30,13)\n",
    "plt.title('Location wise count for restaurants')"
   ]
  },
  {
   "cell_type": "markdown",
   "id": "d75fd350",
   "metadata": {},
   "source": [
    "# inference:\n",
    "this shows count of restaurants in each city across the globe"
   ]
  },
  {
   "cell_type": "code",
   "execution_count": null,
   "id": "85849852",
   "metadata": {
    "scrolled": true
   },
   "outputs": [],
   "source": [
    "sb.countplot(zomato_india['City'])\n",
    "sb.countplot(zomato_india['City']).set_xticklabels(sb.countplot(zomato_india['City']).get_xticklabels(), rotation=90, ha=\"right\")\n",
    "fig = plt.gcf();\n",
    "fig.set_size_inches(12,13)\n",
    "plt.title('Location wise count for restaurants')\n"
   ]
  },
  {
   "cell_type": "markdown",
   "id": "32cba95b",
   "metadata": {},
   "source": [
    "this graph shows how many restaurants exists in each city or locality"
   ]
  },
  {
   "cell_type": "code",
   "execution_count": null,
   "id": "0e5aa53d",
   "metadata": {},
   "outputs": [],
   "source": [
    "a=pd.merge(zomato_country[(zomato_country['Country']=='India')].groupby(['City']).agg({'Restaurant ID':np.count_nonzero}).reset_index(),zomato_country[(zomato_country['Has Online delivery']=='Yes')&(zomato_country['Country']=='India')].groupby(['City']).agg({'Restaurant ID':np.count_nonzero}).reset_index(),on='City',how='inner')                                                    \n",
    "a.rename(columns={'Restaurant ID_x':'Total_restaurants','Restaurant ID_y':'Online_restaurants'},inplace=True)\n",
    "a['%age']=a['Online_restaurants']*100/a['Total_restaurants']\n",
    "a['%age']=a['%age'].apply(lambda x: np.round(x,2))\n",
    "a.sort_values('Online_restaurants',ascending=False).reset_index(drop=True)"
   ]
  },
  {
   "cell_type": "code",
   "execution_count": null,
   "id": "261e334a",
   "metadata": {},
   "outputs": [],
   "source": [
    "#Encode the input Variables\n",
    "def Encode(zomato):\n",
    "    for column in zomato.columns[~zomato.columns.isin(['rate', 'cost', 'votes'])]:\n",
    "        zomato[column] = zomato[column].factorize()[0]\n",
    "    return zomato\n",
    "\n",
    "zomato_en = Encode(zomato.copy())\n",
    "zomato_en.head() # looking at the dataset after transformation"
   ]
  },
  {
   "cell_type": "code",
   "execution_count": null,
   "id": "b9668020",
   "metadata": {},
   "outputs": [],
   "source": [
    "from sklearn.linear_model import LogisticRegression\n",
    "from sklearn.linear_model import LinearRegression\n",
    "from sklearn.model_selection import train_test_split\n",
    "from sklearn.metrics import mean_squared_error\n",
    "\n",
    "from sklearn.metrics import r2_score\n",
    "from sklearn.metrics import mean_absolute_error"
   ]
  },
  {
   "cell_type": "code",
   "execution_count": null,
   "id": "3091771e",
   "metadata": {},
   "outputs": [],
   "source": [
    "from sklearn.linear_model import LinearRegression\n",
    "from sklearn.model_selection import train_test_split"
   ]
  },
  {
   "cell_type": "code",
   "execution_count": null,
   "id": "290fa4b9",
   "metadata": {
    "scrolled": true
   },
   "outputs": [],
   "source": [
    "#Defining the independent variables and dependent variables\n",
    "x = zomato_en.iloc[:,[2,3,5,6,7,8,9,11]]\n",
    "y = zomato_en['Aggregate rating']\n",
    "#Getting Test and Training Set\n",
    "x_train,x_test,y_train,y_test=train_test_split(x,y,test_size=.1,random_state=353)\n",
    "x_train.head()"
   ]
  },
  {
   "cell_type": "code",
   "execution_count": null,
   "id": "19be6c40",
   "metadata": {},
   "outputs": [],
   "source": [
    "#Create a pie chart for cities distribution\n",
    "city_values=zomato_india.City.value_counts().values\n",
    "city_labels=zomato_india.City.value_counts().index"
   ]
  },
  {
   "cell_type": "code",
   "execution_count": null,
   "id": "787b0c47",
   "metadata": {},
   "outputs": [],
   "source": [
    "plt.pie(city_values[:5],labels=city_labels[:5],autopct='%1.2f%%')\n",
    "plt.show()"
   ]
  },
  {
   "cell_type": "code",
   "execution_count": null,
   "id": "c4d77220",
   "metadata": {},
   "outputs": [],
   "source": [
    "import plotly.graph_objects as go\n",
    "\n",
    "labels = list(zomato_india.City.value_counts().index)\n",
    "values = list(zomato_india.value_counts().values)\n",
    "\n",
    "# Use `hole` to create a donut-like pie chart\n",
    "fig = go.Figure(data=[go.Pie(labels=labels, values=values,hole=0.6,title=\"Zomato's Presence Citywise\")])\n",
    "fig.show()\n",
    "\n"
   ]
  },
  {
   "cell_type": "code",
   "execution_count": null,
   "id": "b193852d",
   "metadata": {},
   "outputs": [],
   "source": [
    "#Count plot\n",
    "sb.countplot(x=\"Rating color\", data=ratings,palette=['white','red','orange','yellow','cyan','green']);"
   ]
  },
  {
   "cell_type": "markdown",
   "id": "839491ef",
   "metadata": {},
   "source": [
    "# inference:\n",
    "this graph shows the text rating color code. where 1 person has marked it white which means the review was very poor. 7 has given red which means those texts has poor ratings, 10 gave orange that means they found the food okay. 5 has marked the restaurants yellow, green and dark green accordingly that means good, very good and excellent."
   ]
  },
  {
   "cell_type": "code",
   "execution_count": null,
   "id": "7ee736a4",
   "metadata": {},
   "outputs": [],
   "source": [
    "# Rating Text Countplot\n",
    "import matplotlib\n",
    "matplotlib.rcParams['figure.figsize'] = (18,6)\n",
    "\n",
    "sb.barplot(x=\"Rating text\",y=\"Rating Count\",data=ratings)\n",
    "plt.xlabel(\"Rating Text\",{\"color\":\"red\"},size=18)\n",
    "plt.ylabel(\"Count\",{\"color\":\"red\"},size=18)\n",
    "plt.title(\"Rating Text Count\",size=30,color='red')\n",
    "plt.show()\n",
    "plt.savefig(\"rating text count.jpg\")"
   ]
  },
  {
   "cell_type": "markdown",
   "id": "199c688d",
   "metadata": {},
   "source": [
    "# Inference:\n",
    "this graph shows how more than 2000 restaurants has not been rated and less than 50 has been rated poor, around 350-4oo has been rated average and around 400-450 are rated good. less than 200 restaurants  are rated very good and hardly 50 has been rated excellent. "
   ]
  },
  {
   "cell_type": "code",
   "execution_count": null,
   "id": "29331bd4",
   "metadata": {
    "scrolled": false
   },
   "outputs": [],
   "source": [
    "# Ratings Countplot with Colour Mapping\n",
    "sb.barplot(x=\"Aggregate rating\",y=\"Rating Count\",data=ratings,hue=\"Rating color\",palette=['white','red','orange','yellow','cyan','green'])\n",
    "plt.xlabel(\"Ratings\",{\"color\":\"red\"},size=18)\n",
    "plt.ylabel(\"Count\",{\"color\":\"red\"},size=18)\n",
    "plt.title(\"Ratings Count\",size=30,color='red')\n",
    "plt.show()\n",
    "plt.savefig(\"ratings count.jpg\")"
   ]
  },
  {
   "cell_type": "markdown",
   "id": "4cca8fcd",
   "metadata": {},
   "source": [
    "# Inference:\n",
    "this graph shows how different restaurants has been rated with different colors. this has the count of different ratings starting from white to green. \n",
    "1. from 0.0-2.0: white\n",
    "1. 2.1-2.4: red\n",
    "1. 2.5-3.4: orange\n",
    "1. 3.5-3.9: yellow\n",
    "1. 4.0-4.5: green\n",
    "1. 4.5-5: dark green"
   ]
  },
  {
   "cell_type": "code",
   "execution_count": null,
   "id": "fb67ea72",
   "metadata": {},
   "outputs": [],
   "source": [
    "# Let's Analyze which City has Maximum Price Range\n",
    "highPrice_city = zomato_country.groupby(['Country','City']).mean()['Price range'].reset_index().sort_values(\"Price range\",ascending=False)[:10]\n",
    "highPrice_city.style.set_properties(**{'color': 'orange'})"
   ]
  },
  {
   "cell_type": "code",
   "execution_count": null,
   "id": "c634d3cc",
   "metadata": {},
   "outputs": [],
   "source": [
    "# Let's Analyze which City has Minimum Price Range\n",
    "lowPrice_city = zomato_country.groupby(['Country','City']).mean()['Price range'].reset_index().sort_values(\"Price range\",ascending=False)[-10:]\n",
    "lowPrice_city.style.set_properties(**{'color': 'green'})"
   ]
  },
  {
   "cell_type": "code",
   "execution_count": null,
   "id": "23c872f7",
   "metadata": {},
   "outputs": [],
   "source": [
    "# Let's see top 10 Cuisines\n",
    "zomato_country.groupby('Cuisines').size().reset_index().sort_values(0,ascending=False).rename(columns={0:'Count'})[:10]"
   ]
  },
  {
   "cell_type": "code",
   "execution_count": null,
   "id": "884f3006",
   "metadata": {},
   "outputs": [],
   "source": [
    "# Let's check that Cities which are currently delivering orders\n",
    "zomato_india[zomato_india['Is delivering now']=='Yes'].groupby([\"Country\",\"City\"]).count()[\"Is delivering now\"].reset_index()"
   ]
  },
  {
   "cell_type": "code",
   "execution_count": null,
   "id": "37770fe3",
   "metadata": {},
   "outputs": [],
   "source": [
    "cuisine_val = zomato_india.Cuisines.value_counts()             \n",
    "cuisine_label = zomato_india.Cuisines.value_counts().index \n",
    "fig = go.Figure(data=[go.Pie(labels=cuisine_label[:10], values=cuisine_val[:10], textinfo='label+percent',\n",
    "                             insidetextorientation='radial',title='Top 10 Cuisine'\n",
    "                            )])\n",
    "fig.show();"
   ]
  },
  {
   "cell_type": "code",
   "execution_count": null,
   "id": "776c99a0",
   "metadata": {},
   "outputs": [],
   "source": [
    "from pprint import pprint\n",
    "\n",
    "cuisines_total = zomato_country['Cuisines']\n",
    "texts = []\n",
    "hash_map = set()\n",
    "cuisines_total.dropna(inplace=True)\n",
    "for i in cuisines_total:\n",
    "    for j in str(i).split(', '):\n",
    "        if j not in hash_map:\n",
    "            texts.append(j.lower())\n",
    "            hash_map.add(j)\n",
    "pprint(texts)"
   ]
  },
  {
   "cell_type": "code",
   "execution_count": null,
   "id": "e09eb25f",
   "metadata": {},
   "outputs": [],
   "source": [
    "temp = ratings[['Rating text', 'Rating Count']].groupby(['Rating text']).sum()\n",
    "temp.drop('Not rated', axis=0, inplace=True)"
   ]
  },
  {
   "cell_type": "code",
   "execution_count": null,
   "id": "744fa6b6",
   "metadata": {
    "scrolled": false
   },
   "outputs": [],
   "source": [
    "plt.pie(temp['Rating Count'], labels = ['Average', 'Excellent', 'Good', 'Poor', 'Very Good'], autopct='%1.2f')"
   ]
  },
  {
   "cell_type": "markdown",
   "id": "b7a39b0a",
   "metadata": {},
   "source": [
    "The range of ratings for categories are as follows.\n",
    "1.8 - 2.4: poor\n",
    "2.5 - 3.4: Average\n",
    "3.5 - 3.9: Good\n",
    "4.0 - 4.4: Very Good\n",
    "4.4 - 4.9: Excellent\n",
    "The mean rating is 3.24 and 95% of the values lie between 2.15 and 4.34.\n",
    "\n",
    "Due to low number of poor ratings on restaurants it can be concluded that people are liking the restaurants and are rating according to the actual experience\n"
   ]
  },
  {
   "cell_type": "code",
   "execution_count": null,
   "id": "0ff65252",
   "metadata": {},
   "outputs": [],
   "source": [
    "zomato_india.groupby('City')['Average Cost for two'].mean().sort_values(ascending =False)[-3:]"
   ]
  },
  {
   "cell_type": "code",
   "execution_count": null,
   "id": "cfda4d2f",
   "metadata": {},
   "outputs": [],
   "source": [
    "zomato_country[[\"Currency\", \"Country\"]].groupby(\"Country\").first()"
   ]
  },
  {
   "cell_type": "code",
   "execution_count": null,
   "id": "e566d68c",
   "metadata": {},
   "outputs": [],
   "source": [
    "zomato_country.Country.value_counts()  "
   ]
  },
  {
   "cell_type": "code",
   "execution_count": null,
   "id": "c813bac2",
   "metadata": {
    "scrolled": false
   },
   "outputs": [],
   "source": [
    "zomato_india.groupby('Cuisines')['Aggregate rating'].mean().sort_values(ascending=False).head(50).plot(kind='bar', color = 'orange', figsize=(20,5), title='TOP 50 cuisines')"
   ]
  },
  {
   "cell_type": "markdown",
   "id": "734ef524",
   "metadata": {},
   "source": [
    "# Inference:\n",
    "this shows famous cuisines according to the rating across India. "
   ]
  },
  {
   "cell_type": "code",
   "execution_count": null,
   "id": "8b1e4394",
   "metadata": {
    "scrolled": true
   },
   "outputs": [],
   "source": [
    "zomato_india.groupby('Cuisines')['Aggregate rating'].mean().sort_values(ascending=False).tail(50).plot(kind='bar',figsize=(20,5), title='Rating the worst 50 cuisines')"
   ]
  },
  {
   "cell_type": "markdown",
   "id": "64465a0a",
   "metadata": {},
   "source": [
    "# INFERENCE:\n",
    "this cuisines and thecombo is not liked at all by the people of India or people just didn't take gtime out to rate the cuisine"
   ]
  },
  {
   "cell_type": "code",
   "execution_count": null,
   "id": "c2040b9e",
   "metadata": {},
   "outputs": [],
   "source": [
    "import plotly.graph_objects as go\n",
    "import plotly.express as px"
   ]
  },
  {
   "cell_type": "code",
   "execution_count": null,
   "id": "cc0c7476",
   "metadata": {},
   "outputs": [],
   "source": [
    "def locality_dist(cityname):\n",
    "    plt.figure(figsize = (8,25))\n",
    "    plt.barh(zomato_india[zomato_india['City'].str.lower()==cityname.lower()]['Locality'].value_counts().sort_values().index,\n",
    "             zomato_india[zomato_india['City'].str.lower()==cityname.lower()]['Locality'].value_counts().sort_values())\n",
    "    plt.ylabel('{} Localities'.format(cityname), fontsize = 15)\n",
    "    plt.xlabel('Count', fontsize = 15)\n",
    "    plt.title('Distribution of Restaurants in {} Localities'.format(cityname), fontsize = 20)\n",
    "    plt.grid( linestyle='-', linewidth=1, axis='x', alpha=0.5)"
   ]
  },
  {
   "cell_type": "code",
   "execution_count": null,
   "id": "4b240405",
   "metadata": {},
   "outputs": [],
   "source": [
    "def Locality_count_graph(cityname):\n",
    "    city_name= zomato_india[(zomato_india.City.str.contains(cityname,case=False))]\n",
    "    fig = go.Figure(data=[go.Bar(\n",
    "    x=city_name.Locality.value_counts().head(10).index,\n",
    "    y=city_name.Locality.value_counts().head(10))])\n",
    "    \n",
    "    fig.update_xaxes(title_text=\"Locality in \" + city)\n",
    "    fig.update_yaxes(title_text=\"Count\")\n",
    "\n",
    "\n",
    "    return fig.show();"
   ]
  },
  {
   "cell_type": "code",
   "execution_count": null,
   "id": "df384c1d",
   "metadata": {},
   "outputs": [],
   "source": [
    "def has_online_delivery(cityname):\n",
    "    locality_name= zomato_india[(zomato_india.City.str.contains(cityname,case=False))]\n",
    "    top_locality = locality_name.Locality.value_counts().head(10)\n",
    "    plt.figure(figsize=(12,6))\n",
    "    ax = sb.countplot(y= \"Locality\", hue=\"Has Online delivery\", data=locality_name[locality_name.Locality.isin\n",
    "                                                                                   (top_locality.index)])\n",
    "    plt.title('Resturants Online Delivery');"
   ]
  },
  {
   "cell_type": "code",
   "execution_count": null,
   "id": "61257086",
   "metadata": {},
   "outputs": [],
   "source": [
    "def has_table_booking(cityname):\n",
    "    locality_names= zomato_india[(zomato_india.City.str.contains(cityname,case=False))]\n",
    "    fig = px.bar(locality_names, \n",
    "                   x=locality_names.Locality, \n",
    "                   #marginal='box', \n",
    "                   color=locality_names['Has Table booking'],\n",
    "             #y=k.Locality.value_counts().head(10).index, \n",
    "                   #color_discrete_sequence=['Grey', 'Red','Orange','Yellow','Green',\"Darkgreen\"], \n",
    "                   title='Table Booking options')\n",
    "    fig.update_layout(bargap=0.1)\n",
    "    return fig.show();"
   ]
  },
  {
   "cell_type": "code",
   "execution_count": null,
   "id": "ba5a4c26",
   "metadata": {},
   "outputs": [],
   "source": [
    "def costly_restaurants(cityname):\n",
    "    locality_name_= zomato_india[(zomato_india.City.str.contains(cityname,case=False))]\n",
    "    expensive_rest=locality_name_.nlargest(25, 'Average Cost for two')\n",
    "    plot = px.bar(expensive_rest, x='Restaurant Name', \n",
    "            y='Average Cost for two',\n",
    "            hover_data=['Has Online delivery'] ,\n",
    "            title = 'Top 25 costly restaurant')\n",
    "    return plot.show();"
   ]
  },
  {
   "cell_type": "code",
   "execution_count": null,
   "id": "64c29223",
   "metadata": {},
   "outputs": [],
   "source": [
    "def valid_to_open(cityname):\n",
    "    locality_names_= zomato_india[(zomato_india.City.str.contains(city,case=False))]\n",
    "    g = sb.catplot(data=locality_names_ ,x= \"Restaurant Name\", y= \"Average Cost for two\", hue= \"Aggregate rating\",\n",
    "                   height = 5, aspect = 5)\n",
    "    g.set_xticklabels(rotation=30)\n",
    "    return plt.show()"
   ]
  },
  {
   "cell_type": "code",
   "execution_count": null,
   "id": "aac5e82d",
   "metadata": {},
   "outputs": [],
   "source": [
    "def review_ratings(cityname):\n",
    "    locality_names= zomato_india[(zomato_india.City.str.contains(cityname,case=False))]\n",
    "    fig = px.bar(locality_names, \n",
    "                   x=locality_names.Locality, \n",
    "                   #marginal='box', \n",
    "                   color=locality_names['Rating color'],\n",
    "             #y=k.Locality.value_counts().head(10).index, \n",
    "                   #color_discrete_sequence=['Grey', 'Red','Orange','Yellow','Green',\"Darkgreen\"], \n",
    "                   title='Reviews Ratings')\n",
    "    fig.update_layout(bargap=0.1)\n",
    "    return fig.show();"
   ]
  },
  {
   "cell_type": "code",
   "execution_count": null,
   "id": "e56eb20b",
   "metadata": {},
   "outputs": [],
   "source": [
    "city= input(\"Enter the name of the city: \")"
   ]
  },
  {
   "cell_type": "code",
   "execution_count": null,
   "id": "992db016",
   "metadata": {},
   "outputs": [],
   "source": [
    "review_ratings(city)"
   ]
  },
  {
   "cell_type": "code",
   "execution_count": null,
   "id": "2aa3bb65",
   "metadata": {
    "scrolled": false
   },
   "outputs": [],
   "source": [
    "valid_to_open(city)\n"
   ]
  },
  {
   "cell_type": "code",
   "execution_count": null,
   "id": "22c1dcb7",
   "metadata": {},
   "outputs": [],
   "source": [
    "locality_dist(city)"
   ]
  },
  {
   "cell_type": "code",
   "execution_count": null,
   "id": "a401218e",
   "metadata": {},
   "outputs": [],
   "source": [
    "has_online_delivery(city)"
   ]
  },
  {
   "cell_type": "code",
   "execution_count": null,
   "id": "f4dc604f",
   "metadata": {},
   "outputs": [],
   "source": [
    "has_table_booking(city)"
   ]
  },
  {
   "cell_type": "code",
   "execution_count": null,
   "id": "86c78a5b",
   "metadata": {
    "scrolled": false
   },
   "outputs": [],
   "source": [
    "costly_restaurants(city)"
   ]
  },
  {
   "cell_type": "markdown",
   "id": "8a8d995d",
   "metadata": {},
   "source": [
    "# Inference:\n",
    "This five graph together helps a person to figure out whether they should be opening a restaurant in that particular locality or not and what all can they do after analyzing the data and condition of other restaurants that already exists in there. \n",
    "an input is asked by the user which is name of the city. once the user inputs that they get following information\n",
    "\n",
    "1. Review Rating- X axis has all the localities of that city according to the data and Y axis has count of number of restaurant in that area according to the data according to the review color. the seequence of rating is 'Grey', 'Red','Orange','Yellow','Green',\"Darkgreen\". Velachery has 2 restaurants with dark green rating.\n",
    "\n",
    "1. locality distribution - in this we can see which locality has most number of restaurants. So if a locality has more than 10 restaurants and according to the rating chart we can figure out whether that restaurant is loved or not and then we can check with their cuisine and someone who wants to open a restaurant in that area can keep all these quantifiers in their head before starting something new. Velachery ha sthe most restaurants. \n",
    "\n",
    "1. has table booking option- this graph shows us whether the restaurants that are there have table booking option or not. so if you want to pre-book your table and other restaurants in that area doesn't have that feature, your outlet can have that and it will make it stand out possibly in that area.\n",
    "\n",
    "1. has online delivery - this graph shows whether the restaurants in that locality has online delivery option or not. we can see in velachery none of the restaurant has online delivery option.\n",
    "\n",
    "1. valid to open- this shows each restaurants data and their aggregate rating in comparison to the aggregate price for two. so, if a particular restaurant has a aggregate rating of 3.8 and the cost for two is 800 which means it's food is moderately liked by the people in there.  we can see ab's barbeques restaurant has an average rating of 4.9 and the range price for two is between 1500-1750 but people are still enjoying. This means if a restaurant with same kind of cuisine is opened in that area at a chepar price range, the probability of it working is likely.\n",
    "1. costly restaurants in that area- if according to the above data we figure out some stats about a particular data, the next task is to figure out whether that is the costliest restaurant across the city or just in that area. this will help a person to set a mark for their business before starting something new.\n"
   ]
  },
  {
   "cell_type": "code",
   "execution_count": null,
   "id": "a2712716",
   "metadata": {},
   "outputs": [],
   "source": [
    "cuisine_data = zomato_india.groupby(['Cuisines'], as_index=False)['Restaurant ID'].count()\n",
    "cuisine_data.columns = ['Cuisines','Number of Resturants']\n",
    "Top15= (cuisine_data.sort_values(['Number of Resturants'],ascending=False)).head(15)\n",
    "sb.set(rc={'figure.figsize':(11.7,8.27)})\n",
    "sb.barplot(Top15['Cuisines'], Top15['Number of Resturants'])\n",
    "plt.xlabel('Cuisines', fontsize=20)\n",
    "plt.ylabel('Number of Resturants', fontsize=20)\n",
    "plt.title('Top 15 cuisines on Zomato', fontsize=20)\n",
    "plt.xticks(rotation = 90)\n",
    "plt.show()"
   ]
  },
  {
   "cell_type": "markdown",
   "id": "1d38f274",
   "metadata": {},
   "source": [
    "# INFERENCE:\n",
    "this graph shows the top 15 cuisines across India according to the data. The bar chart representation is in form of counts of each restaurant done using groupby feature. We can see North Indian food is the most spread across and liked. Most of the restaurants has north Indian food followed with north indian and chinese and then fast food and according to the least spread across it is bakery aong with fast food."
   ]
  },
  {
   "cell_type": "code",
   "execution_count": null,
   "id": "d23e2a43",
   "metadata": {
    "scrolled": false
   },
   "outputs": [],
   "source": [
    "zomato_india['Restaurant Name'].value_counts().head(25).plot(kind='pie',figsize=(13,13), title=\"Top 25 Restaurants with maximum outlets\", autopct='%1.1f%%');\n",
    "plt.savefig(\"25 restaurants with maximum outlets.jpg\")"
   ]
  },
  {
   "cell_type": "markdown",
   "id": "da55260b",
   "metadata": {},
   "source": [
    "# INFERENCE:\n",
    "this graph shows the top 15 restaurant across India according to the data. The pie chart representation is in form of the most number of the outlet of each restaurant across the data and India. We can see CCD has the most outlet followed with dominos and subway and according to the least spread across restaurant is haldiram's and burger king"
   ]
  },
  {
   "cell_type": "code",
   "execution_count": null,
   "id": "7cc97573",
   "metadata": {},
   "outputs": [],
   "source": [
    "zomato_country.to_csv('cleaned miniproject dataset 21112022.csv')\n"
   ]
  }
 ],
 "metadata": {
  "kernelspec": {
   "display_name": "Python 3 (ipykernel)",
   "language": "python",
   "name": "python3"
  },
  "language_info": {
   "codemirror_mode": {
    "name": "ipython",
    "version": 3
   },
   "file_extension": ".py",
   "mimetype": "text/x-python",
   "name": "python",
   "nbconvert_exporter": "python",
   "pygments_lexer": "ipython3",
   "version": "3.10.9"
  }
 },
 "nbformat": 4,
 "nbformat_minor": 5
}
